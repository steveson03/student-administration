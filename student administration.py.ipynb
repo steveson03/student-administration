{
 "cells": [
  {
   "cell_type": "code",
   "execution_count": 1,
   "id": "05432b6d",
   "metadata": {},
   "outputs": [
    {
     "name": "stdout",
     "output_type": "stream",
     "text": [
      "Enter information for student #1 in the given format (Name Age Contact_Number E-mail_ID):steve 21 9837645243 stenvoie03@gmail.com\n",
      "\n",
      "The entered information is -\n",
      "Name: steve\n",
      "Age: 21\n",
      "Contact_number: 9837645243\n",
      "E-Mail ID: stenvoie03@gmail.com\n",
      "Is the entered information correct? (yes/no):yes\n",
      "Enter (yes/no) if you want to enter information for another students: no\n"
     ]
    }
   ],
   "source": [
    "import csv\n",
    "\n",
    "def write_into_csv(info_list):\n",
    "    with open('student_info.csv','a',newline='') as csv_file:\n",
    "        writer = csv.writer(csv_file)\n",
    "        \n",
    "        if csv_file.tell() == 0:\n",
    "            writer.writerow([\"Name\",\"Age\",\"Contact Number\",\"E-Mail ID\"])\n",
    "            \n",
    "        writer.writerow(info_list)\n",
    "        \n",
    "if __name__ == '__main__':\n",
    "    condition = True\n",
    "    student_num = 1\n",
    "    \n",
    "    while(condition):\n",
    "        student_info = input(\"Enter information for student #{} in the given format (Name Age Contact_Number E-mail_ID):\".format(student_num))\n",
    "        \n",
    "        student_info_list = student_info.split(' ')\n",
    "        \n",
    "        print(\"\\nThe entered information is -\\nName: {}\\nAge: {}\\nContact_number: {}\\nE-Mail ID: {}\"\n",
    "                .format(student_info_list[0], student_info_list[1], student_info_list[2], student_info_list[3]))\n",
    "        \n",
    "        choice_check = input(\"Is the entered information correct? (yes/no):\")\n",
    "            \n",
    "        if choice_check == \"yes\":\n",
    "            write_into_csv(student_info_list)\n",
    "            \n",
    "            condition_check = input(\"Enter (yes/no) if you want to enter information for another students: \")\n",
    "            \n",
    "            if condition_check == \"yes\":\n",
    "                condition = True\n",
    "                student_num = student_num + 1\n",
    "            elif condition_check == \"no\":\n",
    "                condition = False\n",
    "            elif choice_check == \"no\":\n",
    "                print(\"\\nPlease re-enter the value!\")\n",
    "        "
   ]
  },
  {
   "cell_type": "code",
   "execution_count": null,
   "id": "8ddcd8b5",
   "metadata": {},
   "outputs": [],
   "source": []
  }
 ],
 "metadata": {
  "kernelspec": {
   "display_name": "Python 3 (ipykernel)",
   "language": "python",
   "name": "python3"
  },
  "language_info": {
   "codemirror_mode": {
    "name": "ipython",
    "version": 3
   },
   "file_extension": ".py",
   "mimetype": "text/x-python",
   "name": "python",
   "nbconvert_exporter": "python",
   "pygments_lexer": "ipython3",
   "version": "3.9.6"
  }
 },
 "nbformat": 4,
 "nbformat_minor": 5
}
